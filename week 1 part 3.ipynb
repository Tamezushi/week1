{
 "cells": [
  {
   "cell_type": "code",
   "execution_count": 1,
   "id": "b817650b-5f1f-4724-9a54-e644d2190b1b",
   "metadata": {},
   "outputs": [
    {
     "data": {
      "text/plain": [
       "55"
      ]
     },
     "execution_count": 1,
     "metadata": {},
     "output_type": "execute_result"
    }
   ],
   "source": [
    "55|52"
   ]
  },
  {
   "cell_type": "code",
   "execution_count": 2,
   "id": "08c5e76e-504a-4ac0-bfbb-9d7dcab538d6",
   "metadata": {},
   "outputs": [
    {
     "data": {
      "text/plain": [
       "'0b110111'"
      ]
     },
     "execution_count": 2,
     "metadata": {},
     "output_type": "execute_result"
    }
   ],
   "source": [
    "bin(55)"
   ]
  },
  {
   "cell_type": "code",
   "execution_count": 3,
   "id": "4cab0741-9fa0-4ff9-8d8b-799b504d18b8",
   "metadata": {},
   "outputs": [
    {
     "data": {
      "text/plain": [
       "'0b110100'"
      ]
     },
     "execution_count": 3,
     "metadata": {},
     "output_type": "execute_result"
    }
   ],
   "source": [
    "bin(52)"
   ]
  },
  {
   "cell_type": "code",
   "execution_count": 4,
   "id": "e82793a4-4f2b-486e-858c-8831c9b4fe4b",
   "metadata": {},
   "outputs": [],
   "source": [
    "a=10\n",
    "if a>10:\n",
    "    print(\"yes a is greater than 10\")"
   ]
  },
  {
   "cell_type": "code",
   "execution_count": 5,
   "id": "eaf97d66-ac86-4962-989b-d6fdb299058d",
   "metadata": {},
   "outputs": [
    {
     "data": {
      "text/plain": [
       "False"
      ]
     },
     "execution_count": 5,
     "metadata": {},
     "output_type": "execute_result"
    }
   ],
   "source": [
    "a>10"
   ]
  },
  {
   "cell_type": "code",
   "execution_count": 6,
   "id": "89c6d4f9-a548-42a8-81dc-938479c6ddc5",
   "metadata": {},
   "outputs": [
    {
     "name": "stdout",
     "output_type": "stream",
     "text": [
      "yes a is greater than 10\n"
     ]
    }
   ],
   "source": [
    "a=10\n",
    "if a>=10:\n",
    "    print(\"yes a is greater than 10\")"
   ]
  },
  {
   "cell_type": "code",
   "execution_count": 7,
   "id": "f22af116-f42d-4846-8b2b-8f3767c82865",
   "metadata": {},
   "outputs": [
    {
     "data": {
      "text/plain": [
       "True"
      ]
     },
     "execution_count": 7,
     "metadata": {},
     "output_type": "execute_result"
    }
   ],
   "source": [
    "a>=10"
   ]
  },
  {
   "cell_type": "code",
   "execution_count": 15,
   "id": "d8e7a424-9b09-4e49-b03c-bf88fd8e8bfd",
   "metadata": {},
   "outputs": [
    {
     "name": "stdout",
     "output_type": "stream",
     "text": [
      "yes b is lesser than 40\n"
     ]
    }
   ],
   "source": [
    "b=20\n",
    "if b>30:\n",
    "    print(\"yes b is greater than 30\")\n",
    "elif b <40:\n",
    "    print(\"yes b is lesser than 40\")\n",
    "else :\n",
    "    print(\"this is my defalut\")"
   ]
  },
  {
   "cell_type": "code",
   "execution_count": 9,
   "id": "39eb39a4-db4a-42a4-a768-cecaeaed51a4",
   "metadata": {},
   "outputs": [
    {
     "data": {
      "text/plain": [
       "False"
      ]
     },
     "execution_count": 9,
     "metadata": {},
     "output_type": "execute_result"
    }
   ],
   "source": [
    "b>30"
   ]
  },
  {
   "cell_type": "code",
   "execution_count": 11,
   "id": "c039aa91-a9f6-4992-b2b7-924afba486dc",
   "metadata": {},
   "outputs": [
    {
     "data": {
      "text/plain": [
       "True"
      ]
     },
     "execution_count": 11,
     "metadata": {},
     "output_type": "execute_result"
    }
   ],
   "source": [
    "b<40"
   ]
  },
  {
   "cell_type": "code",
   "execution_count": 16,
   "id": "59ab1a87-0a60-4a41-b034-4f026b06371b",
   "metadata": {},
   "outputs": [
    {
     "name": "stdout",
     "output_type": "stream",
     "text": [
      "this is my defalut\n"
     ]
    }
   ],
   "source": [
    "b=20\n",
    "if b>30:\n",
    "    print(\"yes b is greater than 30\")\n",
    "elif b >40:\n",
    "    print(\"yes b is lesser than 40\")\n",
    "else :\n",
    "    print(\"this is my defalut\")"
   ]
  },
  {
   "cell_type": "code",
   "execution_count": 17,
   "id": "7097ea1c-0a1d-420f-9bdd-462bfc92157e",
   "metadata": {},
   "outputs": [
    {
     "name": "stdout",
     "output_type": "stream",
     "text": [
      "yes b is lesser than 40\n"
     ]
    }
   ],
   "source": [
    "b=20\n",
    "if b>30:\n",
    "    print(\"yes b is greater than 30\")\n",
    "elif b <40:\n",
    "    print(\"yes b is lesser than 40\")\n",
    "elif b>100:\n",
    "    print(\"yes b is greater than 100\")\n",
    "else :\n",
    "    print(\"this is my defalut\")"
   ]
  },
  {
   "cell_type": "code",
   "execution_count": 18,
   "id": "a7455b6c-ad94-4606-8fb9-ba28fb9dbeba",
   "metadata": {},
   "outputs": [
    {
     "name": "stdin",
     "output_type": "stream",
     "text": [
      " 324\n"
     ]
    },
    {
     "data": {
      "text/plain": [
       "'324'"
      ]
     },
     "execution_count": 18,
     "metadata": {},
     "output_type": "execute_result"
    }
   ],
   "source": [
    "input()"
   ]
  },
  {
   "cell_type": "code",
   "execution_count": 25,
   "id": "d2a7ada0-8289-4d42-a1c5-8c95bfecf837",
   "metadata": {},
   "outputs": [
    {
     "name": "stdin",
     "output_type": "stream",
     "text": [
      " 110\n"
     ]
    },
    {
     "name": "stdout",
     "output_type": "stream",
     "text": [
      "yes b is greater than 30\n"
     ]
    }
   ],
   "source": [
    "b = int(input())\n",
    "\n",
    "if b>30:\n",
    "    print(\"yes b is greater than 30\")\n",
    "elif b >40:\n",
    "    print(\"yes b is lesser than 40\")\n",
    "elif b>100:\n",
    "    print(\"yes b is greater than 100\")\n",
    "else :\n",
    "    print(\"this is my defalut\")"
   ]
  },
  {
   "cell_type": "code",
   "execution_count": 20,
   "id": "c491ac1e-9e27-433e-a456-bf13faa5f893",
   "metadata": {},
   "outputs": [
    {
     "data": {
      "text/plain": [
       "34"
      ]
     },
     "execution_count": 20,
     "metadata": {},
     "output_type": "execute_result"
    }
   ],
   "source": [
    "int('34')"
   ]
  },
  {
   "cell_type": "code",
   "execution_count": 22,
   "id": "61123e48-1023-433c-b5ad-914fe2e535fb",
   "metadata": {},
   "outputs": [
    {
     "data": {
      "text/plain": [
       "int"
      ]
     },
     "execution_count": 22,
     "metadata": {},
     "output_type": "execute_result"
    }
   ],
   "source": [
    "type(b)"
   ]
  },
  {
   "cell_type": "code",
   "execution_count": 26,
   "id": "3053c2af-f3b0-439e-82fa-6c10924e2b69",
   "metadata": {},
   "outputs": [
    {
     "name": "stdin",
     "output_type": "stream",
     "text": [
      " 2\n"
     ]
    },
    {
     "name": "stdout",
     "output_type": "stream",
     "text": [
      "this is my defalut\n"
     ]
    }
   ],
   "source": [
    "b = int(input())\n",
    "\n",
    "if b>30:\n",
    "    print(\"yes b is greater than 30\")\n",
    "elif b >40:\n",
    "    print(\"yes b is lesser than 40\")\n",
    "elif b>100:\n",
    "    print(\"yes b is greater than 100\")\n",
    "else :\n",
    "    print(\"this is my defalut\")"
   ]
  },
  {
   "cell_type": "code",
   "execution_count": 27,
   "id": "ffc3f972-452b-4875-bfab-5dcee3e6c7be",
   "metadata": {},
   "outputs": [
    {
     "name": "stdout",
     "output_type": "stream",
     "text": [
      "1\n",
      "2\n",
      "3\n"
     ]
    }
   ],
   "source": [
    "n=4\n",
    "i=1\n",
    "while i<n:\n",
    "    print (i)\n",
    "    i= i+1"
   ]
  },
  {
   "cell_type": "code",
   "execution_count": 28,
   "id": "489be413-ab78-4ce9-a1ac-8d8fdc144a7a",
   "metadata": {},
   "outputs": [
    {
     "name": "stdout",
     "output_type": "stream",
     "text": [
      "1\n",
      "2\n",
      "3\n",
      "this is my else\n"
     ]
    }
   ],
   "source": [
    "n=4\n",
    "i=1\n",
    "while i<n:\n",
    "    print (i)\n",
    "    i= i+1\n",
    "else :\n",
    "    print(\"this is my else\")"
   ]
  },
  {
   "cell_type": "code",
   "execution_count": 29,
   "id": "f9e2608e-c50a-486a-958a-16990320df5a",
   "metadata": {},
   "outputs": [
    {
     "name": "stdout",
     "output_type": "stream",
     "text": [
      "1\n",
      "2\n"
     ]
    }
   ],
   "source": [
    "n=4\n",
    "i=1\n",
    "while i<n:\n",
    "    print (i)\n",
    "    i= i+1\n",
    "    if i ==3:\n",
    "        break\n",
    "else :\n",
    "    print(\"this is my else\")"
   ]
  },
  {
   "cell_type": "code",
   "execution_count": 30,
   "id": "197b78e5-f08a-470c-8ada-2481208d9d82",
   "metadata": {},
   "outputs": [
    {
     "name": "stdout",
     "output_type": "stream",
     "text": [
      "s\n",
      "u\n",
      "d\n",
      "h\n"
     ]
    }
   ],
   "source": [
    "s= \"sudh\"\n",
    "for i in s :\n",
    "    print (i)"
   ]
  },
  {
   "cell_type": "code",
   "execution_count": 33,
   "id": "e6c5ec51-9282-4382-abb5-a92f3a810876",
   "metadata": {},
   "outputs": [
    {
     "name": "stdout",
     "output_type": "stream",
     "text": [
      "<class 'int'>\n",
      "<class 'int'>\n",
      "<class 'int'>\n",
      "<class 'int'>\n",
      "<class 'int'>\n",
      "<class 'str'>\n",
      "<class 'float'>\n",
      "<class 'bool'>\n"
     ]
    }
   ],
   "source": [
    "l=[2,3,4,5,6,\"sadh\",23.45,True]\n",
    "for i in l: \n",
    "    print (type(i))"
   ]
  },
  {
   "cell_type": "code",
   "execution_count": 34,
   "id": "4bf9d228-3e0e-496a-8274-13ab8291ed44",
   "metadata": {},
   "outputs": [
    {
     "name": "stdout",
     "output_type": "stream",
     "text": [
      "[2, 3, 4, 5, 6, 'sadh', 23.45, True]\n"
     ]
    }
   ],
   "source": [
    "print(l)"
   ]
  },
  {
   "cell_type": "code",
   "execution_count": 35,
   "id": "8ddfb4d8-a0ab-43c8-842b-c4bb62db9f2f",
   "metadata": {},
   "outputs": [
    {
     "name": "stdout",
     "output_type": "stream",
     "text": [
      "<class 'int'>\n",
      "<class 'int'>\n",
      "<class 'int'>\n",
      "<class 'int'>\n",
      "<class 'int'>\n",
      "<class 'str'>\n",
      "<class 'float'>\n",
      "<class 'bool'>\n",
      "this will be executed once for loop will complete itself succefully\n"
     ]
    }
   ],
   "source": [
    "for i in l:\n",
    "    print(type(i))\n",
    "else:\n",
    "    print(\"this will be executed once for loop will complete itself succefully\")"
   ]
  },
  {
   "cell_type": "code",
   "execution_count": 37,
   "id": "735cc4db-527f-48b6-9729-7124b51ff250",
   "metadata": {},
   "outputs": [
    {
     "name": "stdout",
     "output_type": "stream",
     "text": [
      "<class 'int'>\n",
      "<class 'int'>\n",
      "<class 'int'>\n",
      "<class 'int'>\n",
      "<class 'int'>\n"
     ]
    }
   ],
   "source": [
    "for i in l:\n",
    "    print(type(i))\n",
    "    if i==6:\n",
    "        break\n",
    "else:\n",
    "    print(\"this will be executed once for loop will complete itself succefully\")"
   ]
  },
  {
   "cell_type": "code",
   "execution_count": 38,
   "id": "4cdc36aa-1616-48cd-87fd-29140edee19c",
   "metadata": {},
   "outputs": [
    {
     "data": {
      "text/plain": [
       "[2, 3, 4, 5, 6, 'sadh', 23.45, True]"
      ]
     },
     "execution_count": 38,
     "metadata": {},
     "output_type": "execute_result"
    }
   ],
   "source": [
    "l"
   ]
  },
  {
   "cell_type": "code",
   "execution_count": 39,
   "id": "e9ae9d9b-7e5e-496c-a49f-28b1625cf0d3",
   "metadata": {},
   "outputs": [
    {
     "name": "stdout",
     "output_type": "stream",
     "text": [
      "<class 'int'>\n",
      "<class 'int'>\n",
      "<class 'int'>\n",
      "<class 'int'>\n",
      "<class 'int'>\n",
      "<class 'str'>\n",
      "<class 'float'>\n",
      "<class 'bool'>\n",
      "this will be executed once for loop will complete itself succefully\n"
     ]
    }
   ],
   "source": [
    "for i in l:\n",
    "    print(type(i))\n",
    "    if i==6:\n",
    "        continue\n",
    "else:\n",
    "    print(\"this will be executed once for loop will complete itself succefully\")"
   ]
  },
  {
   "cell_type": "code",
   "execution_count": 41,
   "id": "3de59a87-033b-497c-acf8-31750623a6df",
   "metadata": {},
   "outputs": [
    {
     "name": "stdout",
     "output_type": "stream",
     "text": [
      "<class 'int'>\n",
      "2\n",
      "<class 'int'>\n",
      "3\n",
      "<class 'int'>\n",
      "4\n",
      "<class 'int'>\n",
      "5\n",
      "<class 'int'>\n",
      "<class 'str'>\n",
      "sadh\n",
      "<class 'float'>\n",
      "23.45\n",
      "<class 'bool'>\n",
      "True\n",
      "this will be executed once for loop will complete itself succefully\n"
     ]
    }
   ],
   "source": [
    "for i in l:\n",
    "    print(type(i))\n",
    "    if i==6:\n",
    "        continue\n",
    "    print(i)\n",
    "else:\n",
    "    print(\"this will be executed once for loop will complete itself succefully\")"
   ]
  },
  {
   "cell_type": "code",
   "execution_count": 42,
   "id": "e8551013-aa52-42c6-9767-3a0923e33bc5",
   "metadata": {},
   "outputs": [
    {
     "data": {
      "text/plain": [
       "range(0, 10)"
      ]
     },
     "execution_count": 42,
     "metadata": {},
     "output_type": "execute_result"
    }
   ],
   "source": [
    "range(10)"
   ]
  },
  {
   "cell_type": "code",
   "execution_count": 43,
   "id": "be68dc93-1ab4-4e4f-a905-27e4c5f75eda",
   "metadata": {},
   "outputs": [
    {
     "data": {
      "text/plain": [
       "[0, 1, 2, 3, 4, 5, 6, 7, 8, 9]"
      ]
     },
     "execution_count": 43,
     "metadata": {},
     "output_type": "execute_result"
    }
   ],
   "source": [
    "list(range(10))"
   ]
  },
  {
   "cell_type": "code",
   "execution_count": null,
   "id": "0e73b400-c781-4fbe-bb53-718449600c60",
   "metadata": {},
   "outputs": [],
   "source": []
  }
 ],
 "metadata": {
  "kernelspec": {
   "display_name": "Python 3 (ipykernel)",
   "language": "python",
   "name": "python3"
  },
  "language_info": {
   "codemirror_mode": {
    "name": "ipython",
    "version": 3
   },
   "file_extension": ".py",
   "mimetype": "text/x-python",
   "name": "python",
   "nbconvert_exporter": "python",
   "pygments_lexer": "ipython3",
   "version": "3.10.8"
  }
 },
 "nbformat": 4,
 "nbformat_minor": 5
}
